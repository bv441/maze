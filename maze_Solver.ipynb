{
 "cells": [
  {
   "cell_type": "markdown",
   "metadata": {
    "colab_type": "text",
    "id": "3KBsHeMy_MJ6"
   },
   "source": [
    "\n",
    "Maze Solver\n",
    "===========\n",
    "\n",
    "This exercise is to write a small program that can parse a maze description file\n",
    "and generate an output path from given starting point to end point.  If no path is\n",
    "available, the output should indicate so.\n",
    "*  Input must allow for arbitrary sized maze\n",
    "*  Moves are restricted to N, E, S, & W.  (not diagonals)\n",
    "*  You do not need to perform input validation, assume inputs data will be correct (test cases are supplied)\n",
    "*  Your solution is expected to generate clean output, not exception, inf loops, etc.\n",
    "*  Can you make it find the SHORTEST PATH?\n",
    "\n",
    "\n",
    "\n",
    "Good Luck!\n",
    "\n",
    "The input is a maze description file in plain text.  \n",
    " 1 - denotes walls\n",
    " 0 - traversable passage way\n",
    "\n",
    "\n",
    "\n",
    "\n",
    "```\n",
    "INPUT:\n",
    "<HEIGHT> <WIDTH>\n",
    "<START_I> <START_J>\t(i,j) location of the start. (0,0) is upper left and (height-1,width-1) is lower right\n",
    "<END_I> <END_J>\t\t(i,j) location of the end\n",
    "<HEIGHT> rows where each row has <WIDTH> {0,1} integers space delimited\n",
    "\n",
    "```\n",
    "\n",
    "\n",
    "\n",
    "OUTPUT:\n",
    " the maze with a path from start to end\n",
    " walls marked by '#', passages marked by ' ', path marked by 'X', start/end marked by 'S'/'E'\n",
    "\n",
    "Example Input file:  \n",
    "```\n",
    "10 10\n",
    "1 1\n",
    "8 8\n",
    "1 1 1 1 1 1 1 1 1 1\n",
    "1 0 0 0 0 0 0 0 0 1\n",
    "1 0 1 0 1 1 1 1 1 1\n",
    "1 0 1 0 0 0 0 0 0 1\n",
    "1 0 1 1 0 1 0 1 1 1\n",
    "1 0 1 0 0 1 0 1 0 1\n",
    "1 0 1 0 0 0 0 0 0 1\n",
    "1 0 1 1 1 0 1 1 1 1\n",
    "1 0 1 0 0 0 0 0 0 1\n",
    "1 1 1 1 1 1 1 1 1 1\n",
    "```\n",
    "\n",
    "OUTPUT:\n",
    "\n",
    "```\n",
    " ##########\n",
    " #SXX    #\n",
    " # #X######\n",
    " # #XX    #\n",
    " # ##X# ###\n",
    " # # X# # #\n",
    " # # XX   #\n",
    " # ###X####\n",
    " # #  XXXE#\n",
    " ##########\n",
    "```"
   ]
  },
  {
   "cell_type": "markdown",
   "metadata": {
    "colab_type": "text",
    "id": "gVirJTIvNSbF"
   },
   "source": [
    "# Input Section\n",
    "\n",
    "Use/modify the function below to read and parse input files\n",
    "\n",
    "The following input files are available\n",
    "<pre>\n",
    "data/input.txt  \n",
    "data/large_input.txt  \n",
    "data/medium_input.txt\n",
    "</pre>\n",
    "\n"
   ]
  },
  {
   "cell_type": "code",
   "execution_count": 1,
   "metadata": {
    "colab": {
     "base_uri": "https://localhost:8080/",
     "height": 34
    },
    "colab_type": "code",
    "id": "-eIQk5VZQKcg",
    "outputId": "a7409e7d-b236-452d-b382-087069f90bd0"
   },
   "outputs": [
    {
     "name": "stdout",
     "output_type": "stream",
     "text": [
      "data/input.txt  data/large_input.txt  data/medium_input.txt\n"
     ]
    }
   ],
   "source": [
    "ls data/*.txt"
   ]
  },
  {
   "cell_type": "code",
   "execution_count": 3,
   "metadata": {
    "colab": {},
    "colab_type": "code",
    "id": "i4J53b1_Atkr"
   },
   "outputs": [],
   "source": [
    "def read_input_file(fname):\n",
    "  with open(fname, 'r') as f:\n",
    "    lines = f.readlines()\n",
    "    return lines"
   ]
  },
  {
   "cell_type": "code",
   "execution_count": 4,
   "metadata": {
    "colab": {
     "base_uri": "https://localhost:8080/",
     "height": 173
    },
    "colab_type": "code",
    "id": "O59xnfApM-TO",
    "outputId": "0c3e6e5a-c448-4e09-e198-b0849e8f15b5"
   },
   "outputs": [
    {
     "data": {
      "text/plain": [
       "['5 5\\n',\n",
       " '1 1\\n',\n",
       " '3 3\\n',\n",
       " '1 1 1 1 1\\n',\n",
       " '1 0 1 0 1\\n',\n",
       " '1 0 1 0 1\\n',\n",
       " '1 0 0 0 1\\n',\n",
       " '1 1 1 1 1\\n',\n",
       " '\\n']"
      ]
     },
     "execution_count": 4,
     "metadata": {},
     "output_type": "execute_result"
    }
   ],
   "source": [
    "read_input_file('data/input.txt')\n",
    "# read_input_file('data/medium_input.txt')\n",
    "# read_input_file('data/large_input.txt')"
   ]
  },
  {
   "cell_type": "markdown",
   "metadata": {
    "colab_type": "text",
    "id": "plV_C4t5O4jV"
   },
   "source": [
    "# Write your code below"
   ]
  },
  {
   "cell_type": "code",
   "execution_count": null,
   "metadata": {
    "colab": {},
    "colab_type": "code",
    "id": "OSqpaRutPCab"
   },
   "outputs": [],
   "source": []
  }
 ],
 "metadata": {
  "colab": {
   "name": "maze Solver.ipynb",
   "provenance": []
  },
  "kernelspec": {
   "display_name": "Python 3",
   "language": "python",
   "name": "python3"
  },
  "language_info": {
   "codemirror_mode": {
    "name": "ipython",
    "version": 3
   },
   "file_extension": ".py",
   "mimetype": "text/x-python",
   "name": "python",
   "nbconvert_exporter": "python",
   "pygments_lexer": "ipython3",
   "version": "3.7.7"
  }
 },
 "nbformat": 4,
 "nbformat_minor": 4
}
